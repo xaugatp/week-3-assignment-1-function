{
 "cells": [
  {
   "cell_type": "code",
   "execution_count": 1,
   "id": "3b1fcca8-3197-4655-b013-54adc5ee346d",
   "metadata": {},
   "outputs": [
    {
     "data": {
      "text/plain": [
       "'Q1. Which keyword is used to create a function? Create a function to return a list of odd numbers in the\\nrange of 1 to 25.'"
      ]
     },
     "execution_count": 1,
     "metadata": {},
     "output_type": "execute_result"
    }
   ],
   "source": [
    "'''Q1. Which keyword is used to create a function? Create a function to return a list of odd numbers in the\n",
    "range of 1 to 25.'''"
   ]
  },
  {
   "cell_type": "code",
   "execution_count": 2,
   "id": "fd32e6ba-2428-4531-a967-44db932af6a3",
   "metadata": {},
   "outputs": [
    {
     "data": {
      "text/plain": [
       "[1, 3, 5, 7, 9, 11, 13, 15, 17, 19, 21, 23]"
      ]
     },
     "execution_count": 2,
     "metadata": {},
     "output_type": "execute_result"
    }
   ],
   "source": [
    "#--->The key word used to create a function is def. \n",
    "def odd_num(n):\n",
    "    l1 = []\n",
    "    for i in range(1,n):\n",
    "        if i%2 != 0:\n",
    "            l1.append(i)\n",
    "    return l1\n",
    "\n",
    "odd_num(25)"
   ]
  },
  {
   "cell_type": "code",
   "execution_count": 3,
   "id": "4f78d012-e9a3-421e-98f5-178d2d084032",
   "metadata": {},
   "outputs": [
    {
     "data": {
      "text/plain": [
       "'Q2. Why *args and **kwargs is used in some functions? Create a function each for *args and **kwargs\\nto demonstrate their use.'"
      ]
     },
     "execution_count": 3,
     "metadata": {},
     "output_type": "execute_result"
    }
   ],
   "source": [
    "'''Q2. Why *args and **kwargs is used in some functions? Create a function each for *args and **kwargs\n",
    "to demonstrate their use.'''"
   ]
  },
  {
   "cell_type": "code",
   "execution_count": 4,
   "id": "fcf9d794-c2ac-43a5-96e9-1cd11c365fe3",
   "metadata": {},
   "outputs": [],
   "source": [
    "#--->*args passes variable number of non-keyworded arguments and on which operation of the tuple can be performed whereas **kwargs passes variable number of keyword arguments dictionary to \n",
    "#     function on which operation of a dictionary can be performed.Both of them make the function flexible."
   ]
  },
  {
   "cell_type": "code",
   "execution_count": 5,
   "id": "decf5bac-5614-4310-a367-498eeacb87cd",
   "metadata": {},
   "outputs": [
    {
     "name": "stdout",
     "output_type": "stream",
     "text": [
      "The sum is 6\n",
      "The sum is 33\n"
     ]
    }
   ],
   "source": [
    "#example of *args\n",
    "def adder(*args):\n",
    "    sum = 0\n",
    "    for i in args:\n",
    "        sum = sum + i\n",
    "    print(\"The sum is\", sum)\n",
    "\n",
    "adder(1,2,3)\n",
    "adder(3,4,5,6,7,8)\n",
    "    "
   ]
  },
  {
   "cell_type": "code",
   "execution_count": 6,
   "id": "bf38a103-6cbd-497b-8940-5fc4ba558411",
   "metadata": {},
   "outputs": [
    {
     "name": "stdout",
     "output_type": "stream",
     "text": [
      "kwargs :  {'name': 'saugat', 'age': 12}\n"
     ]
    }
   ],
   "source": [
    "def student_detials(**kwargs):\n",
    "    print(\"kwargs : \", kwargs)\n",
    "\n",
    "student_detials(name = \"saugat\", age = 12)"
   ]
  },
  {
   "cell_type": "code",
   "execution_count": 7,
   "id": "a2ba9dc5-c123-44be-873a-5930f3cd8d0e",
   "metadata": {},
   "outputs": [
    {
     "data": {
      "text/plain": [
       "'Q3. What is an iterator in python? Name the method used to initialise the iterator object and the method\\nused for iteration. Use these methods to print the first five elements of the given list [2, 4, 6, 8, 10, 12, 14,\\n16, 18, 20].'"
      ]
     },
     "execution_count": 7,
     "metadata": {},
     "output_type": "execute_result"
    }
   ],
   "source": [
    "'''Q3. What is an iterator in python? Name the method used to initialise the iterator object and the method\n",
    "used for iteration. Use these methods to print the first five elements of the given list [2, 4, 6, 8, 10, 12, 14,\n",
    "16, 18, 20].'''"
   ]
  },
  {
   "cell_type": "code",
   "execution_count": 8,
   "id": "c6ea7843-5e92-4acf-9297-9fd4c791d115",
   "metadata": {},
   "outputs": [
    {
     "name": "stdout",
     "output_type": "stream",
     "text": [
      "2\n",
      "4\n",
      "6\n",
      "8\n",
      "10\n"
     ]
    }
   ],
   "source": [
    "#--->Iterator is an object that is used to itrate over itrable objects like list,tuples,dictionaries, and sets.  Method used to initialise an itrator is iter(), and method used for itration is next().\n",
    "list = [2,4,6,8,10,12,14,16,18,20]\n",
    "my_itrator = iter(list)\n",
    "for i in range(5):\n",
    "    element = next(my_itrator)\n",
    "    print(element)"
   ]
  },
  {
   "cell_type": "code",
   "execution_count": 9,
   "id": "ac8b42de-00e2-4d6d-bd91-72c99735f920",
   "metadata": {},
   "outputs": [
    {
     "data": {
      "text/plain": [
       "'Q4. What is a generator function in python? Why yield keyword is used? Give an example of a generator\\nfunction.'"
      ]
     },
     "execution_count": 9,
     "metadata": {},
     "output_type": "execute_result"
    }
   ],
   "source": [
    "'''Q4. What is a generator function in python? Why yield keyword is used? Give an example of a generator\n",
    "function.'''"
   ]
  },
  {
   "cell_type": "code",
   "execution_count": 10,
   "id": "71aa120e-bcc0-4da8-af52-a8d19ad4e29a",
   "metadata": {},
   "outputs": [
    {
     "name": "stdout",
     "output_type": "stream",
     "text": [
      "<generator object gen at 0x7f5152de5af0>\n"
     ]
    }
   ],
   "source": [
    "#--->Generator function is the special type of function in python that uses 'yield' keyword instead of 'return'. \n",
    "#--->The 'yield' keyword is used in a generator function to specify the values to be yield or generated. When the function is called, it returns a generator object, which can be iterated over using \n",
    "#    a 'for' loop or by using the 'next()' function.\n",
    "def gen(n):\n",
    "    for i in range(n):\n",
    "        yield i\n",
    "        \n",
    "print(gen(33))\n",
    "    "
   ]
  },
  {
   "cell_type": "code",
   "execution_count": 11,
   "id": "73337737-5eae-480b-a691-fac67ee1d14e",
   "metadata": {},
   "outputs": [
    {
     "data": {
      "text/plain": [
       "'Q5. Create a generator function for prime numbers less than 1000. Use the next() method to print the\\nfirst 20 prime numbers.'"
      ]
     },
     "execution_count": 11,
     "metadata": {},
     "output_type": "execute_result"
    }
   ],
   "source": [
    "'''Q5. Create a generator function for prime numbers less than 1000. Use the next() method to print the\n",
    "first 20 prime numbers.'''"
   ]
  },
  {
   "cell_type": "code",
   "execution_count": 12,
   "id": "f826c0c5-6f7c-4001-8efa-24155591af83",
   "metadata": {},
   "outputs": [
    {
     "name": "stdout",
     "output_type": "stream",
     "text": [
      "2\n",
      "3\n",
      "5\n",
      "7\n",
      "11\n",
      "13\n",
      "17\n",
      "19\n",
      "23\n",
      "29\n",
      "31\n",
      "37\n",
      "41\n",
      "43\n",
      "47\n",
      "53\n",
      "59\n",
      "61\n",
      "67\n",
      "71\n"
     ]
    }
   ],
   "source": [
    "def prime_num():\n",
    "    primes = []\n",
    "    num = 2\n",
    "    while True:\n",
    "        if all(num % p != 0 for p in primes):\n",
    "            primes.append(num)\n",
    "            yield num \n",
    "        num = num + 1\n",
    "    print(num)\n",
    "\n",
    "prime_gen = prime_num()\n",
    "\n",
    "for _ in range(20):\n",
    "    prime = next(prime_gen)\n",
    "    print(prime)\n",
    "\n",
    "\n",
    "    "
   ]
  },
  {
   "cell_type": "code",
   "execution_count": 13,
   "id": "bde4aaa9-3f6b-46e7-a696-a5f8331b0d8c",
   "metadata": {},
   "outputs": [
    {
     "data": {
      "text/plain": [
       "'Q6. Write a python program to print the first 10 Fibonacci numbers using a while loop.'"
      ]
     },
     "execution_count": 13,
     "metadata": {},
     "output_type": "execute_result"
    }
   ],
   "source": [
    "'''Q6. Write a python program to print the first 10 Fibonacci numbers using a while loop.'''"
   ]
  },
  {
   "cell_type": "code",
   "execution_count": 14,
   "id": "9327b6a5-6d1d-474d-9ff2-d8226533b52f",
   "metadata": {},
   "outputs": [
    {
     "name": "stdout",
     "output_type": "stream",
     "text": [
      "0\n",
      "1\n",
      "1\n",
      "2\n",
      "3\n",
      "5\n",
      "8\n",
      "13\n",
      "21\n",
      "34\n"
     ]
    }
   ],
   "source": [
    "# Function to print the first 10 Fibonacci numbers\n",
    "def print_fibonacci():\n",
    "    # Initialize the first two numbers of the sequence\n",
    "    a = 0\n",
    "    b = 1\n",
    "\n",
    "    # Counter to keep track of the number of Fibonacci numbers printed\n",
    "    count = 0\n",
    "\n",
    "    # Print the first 10 Fibonacci numbers\n",
    "    while count < 10:\n",
    "        print(a)\n",
    "\n",
    "        # Calculate the next Fibonacci number\n",
    "        next_num = a + b\n",
    "\n",
    "        # Update the values of a and b for the next iteration\n",
    "        a = b\n",
    "        b = next_num\n",
    "\n",
    "        # Increment the counter\n",
    "        count += 1\n",
    "\n",
    "# Call the function to print the first 10 Fibonacci numbers\n",
    "print_fibonacci()\n"
   ]
  },
  {
   "cell_type": "code",
   "execution_count": 15,
   "id": "89279359-cd39-4470-8ac2-5cca9f28bb07",
   "metadata": {},
   "outputs": [
    {
     "data": {
      "text/plain": [
       "\"Q7. Write a List Comprehension to iterate through the given string: ‘pwskills’.\\nExpected output: ['p', 'w', 's', 'k', 'i', 'l', 'l', 's']\""
      ]
     },
     "execution_count": 15,
     "metadata": {},
     "output_type": "execute_result"
    }
   ],
   "source": [
    "'''Q7. Write a List Comprehension to iterate through the given string: ‘pwskills’.\n",
    "Expected output: ['p', 'w', 's', 'k', 'i', 'l', 'l', 's']'''"
   ]
  },
  {
   "cell_type": "code",
   "execution_count": 5,
   "id": "50efc0ae-7d33-45df-b614-b2ce24de7896",
   "metadata": {},
   "outputs": [
    {
     "name": "stdout",
     "output_type": "stream",
     "text": [
      "['p', 'w', 's', 'k', 'i', 'l', 'l', 's']\n"
     ]
    }
   ],
   "source": [
    "s = \"pwskills\"\n",
    "s_i = iter(s)\n",
    "result = [next(s_i) for i in range(len(s))]\n",
    "print(result)"
   ]
  },
  {
   "cell_type": "code",
   "execution_count": 6,
   "id": "8d478302-d77e-4f96-8fc7-31700f5314ef",
   "metadata": {},
   "outputs": [
    {
     "data": {
      "text/plain": [
       "'Q8. Write a python program to check whether a given number is Palindrome or not using a while loop.'"
      ]
     },
     "execution_count": 6,
     "metadata": {},
     "output_type": "execute_result"
    }
   ],
   "source": [
    "'''Q8. Write a python program to check whether a given number is Palindrome or not using a while loop.'''"
   ]
  },
  {
   "cell_type": "code",
   "execution_count": 16,
   "id": "35d8bf66-2b82-41fe-8746-9da85caa6b43",
   "metadata": {},
   "outputs": [
    {
     "name": "stdin",
     "output_type": "stream",
     "text": [
      "Enter a number:  888\n"
     ]
    },
    {
     "name": "stdout",
     "output_type": "stream",
     "text": [
      "Palindrome\n"
     ]
    }
   ],
   "source": [
    "a = input(\"Enter a number: \")\n",
    "num = int(a)\n",
    "\n",
    "# Reversing the number\n",
    "reversed_num = 0\n",
    "temp = num\n",
    "while temp > 0:\n",
    "    remainder = temp % 10\n",
    "    reversed_num = (reversed_num * 10) + remainder\n",
    "    temp = temp // 10\n",
    "\n",
    "# Checking if the number is a palindrome\n",
    "if num == reversed_num:\n",
    "    print(\"Palindrome\")\n",
    "else:\n",
    "    print(\"Not a Palindrome\")\n"
   ]
  },
  {
   "cell_type": "code",
   "execution_count": 17,
   "id": "489e1687-7261-42fc-a4ff-972a7d8c2368",
   "metadata": {},
   "outputs": [
    {
     "name": "stdout",
     "output_type": "stream",
     "text": [
      "[1, 3, 5, 7, 9, 11, 13, 15, 17, 19, 21, 23, 25, 27, 29, 31, 33, 35, 37, 39, 41, 43, 45, 47, 49, 51, 53, 55, 57, 59, 61, 63, 65, 67, 69, 71, 73, 75, 77, 79, 81, 83, 85, 87, 89, 91, 93, 95, 97, 99]\n"
     ]
    }
   ],
   "source": [
    "'''Q9. Write a code to print odd numbers from 1 to 100 using list comprehension.'''\n",
    "odd_numbers = [num for num in range(1, 101) if num % 2 != 0]\n",
    "print(odd_numbers)\n"
   ]
  },
  {
   "cell_type": "code",
   "execution_count": null,
   "id": "128c3850-8410-4347-88b0-3bd68a7f70e4",
   "metadata": {},
   "outputs": [],
   "source": []
  }
 ],
 "metadata": {
  "kernelspec": {
   "display_name": "Python 3 (ipykernel)",
   "language": "python",
   "name": "python3"
  },
  "language_info": {
   "codemirror_mode": {
    "name": "ipython",
    "version": 3
   },
   "file_extension": ".py",
   "mimetype": "text/x-python",
   "name": "python",
   "nbconvert_exporter": "python",
   "pygments_lexer": "ipython3",
   "version": "3.10.8"
  }
 },
 "nbformat": 4,
 "nbformat_minor": 5
}
